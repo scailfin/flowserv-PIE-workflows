{
 "cells": [
  {
   "cell_type": "code",
   "execution_count": 1,
   "metadata": {},
   "outputs": [],
   "source": [
    "# Run the 'Single Image Analysis' workflow from local copy\n",
    "\n",
    "workflowdir = '/home/heiko/projects/scailfin/PIE'"
   ]
  },
  {
   "cell_type": "code",
   "execution_count": 2,
   "metadata": {},
   "outputs": [],
   "source": [
    "# Set the run arguments.\n",
    "import os\n",
    "from flowserv.tests.workflow import INPUTFILE\n",
    "\n",
    "infile = os.path.join(workflowdir, 'PIE_test_data/IN/SL_170619_2_GR_small/t01xy0001.tif')\n",
    "\n",
    "args = dict({'imageType': 'brightfield', 'infile': INPUTFILE(infile)})\n"
   ]
  },
  {
   "cell_type": "code",
   "execution_count": 3,
   "metadata": {},
   "outputs": [
    {
     "name": "stdout",
     "output_type": "stream",
     "text": [
      "Workflow finished with SUCCESS\n"
     ]
    }
   ],
   "source": [
    "# Run the workflow and output the result state.\n",
    "from flowserv.tests.workflow import run_docker_workflow\n",
    "\n",
    "manifestfile = os.path.join(workflowdir, 'flowserv/workflows/single/flowserv.yaml')\n",
    "rundir = '/tmp/PIE'\n",
    "\n",
    "state = run_docker_workflow(workflowdir, arguments=args, manifestfile=manifestfile, rundir=rundir)\n",
    "\n",
    "print('Workflow finished with {}'.format(state))"
   ]
  },
  {
   "cell_type": "code",
   "execution_count": 4,
   "metadata": {},
   "outputs": [
    {
     "data": {
      "text/plain": [
       "['data/OUT/']"
      ]
     },
     "execution_count": 4,
     "metadata": {},
     "output_type": "execute_result"
    }
   ],
   "source": [
    "state.files"
   ]
  }
 ],
 "metadata": {
  "kernelspec": {
   "display_name": "Python 3",
   "language": "python",
   "name": "python3"
  },
  "language_info": {
   "codemirror_mode": {
    "name": "ipython",
    "version": 3
   },
   "file_extension": ".py",
   "mimetype": "text/x-python",
   "name": "python",
   "nbconvert_exporter": "python",
   "pygments_lexer": "ipython3",
   "version": "3.8.5"
  }
 },
 "nbformat": 4,
 "nbformat_minor": 4
}
